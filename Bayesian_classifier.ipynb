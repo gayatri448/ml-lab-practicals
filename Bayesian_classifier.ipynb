{
 "cells": [
  {
   "cell_type": "markdown",
   "metadata": {},
   "source": [
    "\n",
    "Aim: Develop a Bayesian classifier"
   ]
  },
  {
   "cell_type": "markdown",
   "metadata": {},
   "source": [
    "The Occupancy Detection Dataset is used to predict room occupancy based on environmental sensor data. The data is collected from a room equipped with sensors that measure factors like temperature, humidity, CO₂ levels, and light intensity."
   ]
  },
  {
   "cell_type": "code",
   "execution_count": null,
   "metadata": {},
   "outputs": [],
   "source": [
    "import pandas as pd\n",
    "import numpy as np\n",
    "import matplotlib.pyplot as plt\n",
    "from sklearn.model_selection import train_test_split\n",
    "from sklearn.preprocessing import StandardScaler\n",
    "from sklearn.naive_bayes import GaussianNB\n",
    "from sklearn.metrics import accuracy_score, classification_report, confusion_matrix\n",
    "\n",
    "\n",
    "train_path = r\"C:\\Users\\gayat\\SEM 6\\ml lab\\datatraining.txt\"  \n",
    "test_path = r\"C:\\Users\\gayat\\SEM 6\\ml lab\\datatest.txt\"  \n",
    "\n",
    "df_train = pd.read_csv(train_path)\n",
    "df_test = pd.read_csv(test_path)\n",
    "\n"
   ]
  },
  {
   "cell_type": "code",
   "execution_count": null,
   "metadata": {},
   "outputs": [],
   "source": [
    "\n",
    "train_path = r\"C:\\Users\\gayat\\SEM 6\\ml lab\\datatraining.txt\"  \n",
    "test_path = r\"C:\\Users\\gayat\\SEM 6\\ml lab\\datatest.txt\"  \n",
    "\n",
    "df_train = pd.read_csv(train_path)\n",
    "df_test = pd.read_csv(test_path)"
   ]
  },
  {
   "cell_type": "code",
   "execution_count": 18,
   "metadata": {},
   "outputs": [],
   "source": [
    "\n",
    "df_train.drop(columns=[\"date\"], inplace=True)\n",
    "df_test.drop(columns=[\"date\"], inplace=True)\n",
    "\n",
    "\n",
    "X_train = df_train.drop(columns=[\"Occupancy\"])\n",
    "y_train = df_train[\"Occupancy\"]\n",
    "\n",
    "X_test = df_test.drop(columns=[\"Occupancy\"])\n",
    "y_test = df_test[\"Occupancy\"]\n"
   ]
  },
  {
   "cell_type": "code",
   "execution_count": 19,
   "metadata": {},
   "outputs": [],
   "source": [
    "# Standardize features\n",
    "scaler = StandardScaler()\n",
    "X_train_scaled = scaler.fit_transform(X_train)\n",
    "X_test_scaled = scaler.transform(X_test)\n"
   ]
  },
  {
   "cell_type": "code",
   "execution_count": 20,
   "metadata": {},
   "outputs": [],
   "source": [
    "# Train Naïve Bayes model\n",
    "nb_classifier = GaussianNB()\n",
    "nb_classifier.fit(X_train_scaled, y_train)\n",
    "\n",
    "# Predictions\n",
    "y_pred = nb_classifier.predict(X_test_scaled)"
   ]
  },
  {
   "cell_type": "code",
   "execution_count": 21,
   "metadata": {},
   "outputs": [
    {
     "name": "stdout",
     "output_type": "stream",
     "text": [
      "Naïve Bayes Classifier Accuracy: 97.75%\n",
      "\n",
      "Classification Report:\n",
      "               precision    recall  f1-score   support\n",
      "\n",
      "           0       1.00      0.97      0.98      1693\n",
      "           1       0.95      0.99      0.97       972\n",
      "\n",
      "    accuracy                           0.98      2665\n",
      "   macro avg       0.97      0.98      0.98      2665\n",
      "weighted avg       0.98      0.98      0.98      2665\n",
      "\n",
      "\n",
      "Confusion Matrix:\n",
      " [[1638   55]\n",
      " [   5  967]]\n"
     ]
    }
   ],
   "source": [
    "# Evaluate model\n",
    "accuracy = accuracy_score(y_test, y_pred)\n",
    "print(f\"Naïve Bayes Classifier Accuracy: {accuracy * 100:.2f}%\")\n",
    "print(\"\\nClassification Report:\\n\", classification_report(y_test, y_pred))\n",
    "print(\"\\nConfusion Matrix:\\n\", confusion_matrix(y_test, y_pred))\n"
   ]
  }
 ],
 "metadata": {
  "kernelspec": {
   "display_name": "Python 3",
   "language": "python",
   "name": "python3"
  },
  "language_info": {
   "codemirror_mode": {
    "name": "ipython",
    "version": 3
   },
   "file_extension": ".py",
   "mimetype": "text/x-python",
   "name": "python",
   "nbconvert_exporter": "python",
   "pygments_lexer": "ipython3",
   "version": "3.10.5"
  }
 },
 "nbformat": 4,
 "nbformat_minor": 2
}
